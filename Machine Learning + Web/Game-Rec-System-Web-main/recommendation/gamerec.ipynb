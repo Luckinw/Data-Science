{
 "cells": [
  {
   "cell_type": "code",
   "execution_count": 1,
   "id": "e8097622",
   "metadata": {},
   "outputs": [],
   "source": [
    "import pandas as pd \n",
    "import numpy as np\n",
    "from sqlalchemy import create_engine"
   ]
  },
  {
   "cell_type": "code",
   "execution_count": 3,
   "id": "15db5ee1",
   "metadata": {},
   "outputs": [],
   "source": [
    "\n",
    "steam_df = pd.read_csv('data/steam.csv')\n",
    "desc_df = pd.read_csv('data/steam_description_data.csv')\n",
    "media_df = pd.read_csv('data/steam_media_data.csv')"
   ]
  },
  {
   "cell_type": "markdown",
   "id": "4d7dfbb6",
   "metadata": {},
   "source": [
    "## Working on Data to sql "
   ]
  },
  {
   "cell_type": "code",
   "execution_count": 4,
   "id": "cc5fde4e",
   "metadata": {},
   "outputs": [],
   "source": [
    "game_data = pd.merge(steam_df,media_df,right_on='steam_appid',left_on='appid')[['appid','name','header_image']]"
   ]
  },
  {
   "cell_type": "code",
   "execution_count": 5,
   "id": "560cc8db",
   "metadata": {},
   "outputs": [],
   "source": [
    "engine = create_engine('sqlite:///game_data.db')"
   ]
  },
  {
   "cell_type": "code",
   "execution_count": 6,
   "id": "d02b8d68",
   "metadata": {},
   "outputs": [
    {
     "data": {
      "text/plain": [
       "27075"
      ]
     },
     "execution_count": 6,
     "metadata": {},
     "output_type": "execute_result"
    }
   ],
   "source": [
    "game_data.to_sql('games', con=engine, if_exists='replace', index=False)"
   ]
  },
  {
   "cell_type": "markdown",
   "id": "136ca6fa",
   "metadata": {},
   "source": [
    "## Game Recommendation system"
   ]
  },
  {
   "cell_type": "code",
   "execution_count": 51,
   "id": "d7d6b83c",
   "metadata": {},
   "outputs": [],
   "source": [
    "df = steam_df.copy()\n",
    "df = df[['appid','name','genres','categories','steamspy_tags',]]\n",
    "df1 =desc_df.copy()"
   ]
  },
  {
   "cell_type": "code",
   "execution_count": 52,
   "id": "017097b3",
   "metadata": {},
   "outputs": [],
   "source": [
    "df = df.merge(df1,left_on='appid', right_on='steam_appid')"
   ]
  },
  {
   "cell_type": "code",
   "execution_count": 53,
   "id": "a9181e3a",
   "metadata": {},
   "outputs": [],
   "source": [
    "df['about'] = df['categories']+ df['genres']+ df['steamspy_tags']+ df['detailed_description']\n",
    "df = df[['appid','name','about']]"
   ]
  },
  {
   "cell_type": "code",
   "execution_count": 20,
   "id": "4513f51c",
   "metadata": {},
   "outputs": [],
   "source": [
    "from sklearn.feature_extraction.text import CountVectorizer\n",
    "cv = CountVectorizer(max_features=10000, stop_words='english')\n",
    "vector=cv.fit_transform(df['about'].values.astype('U')).toarray()\n",
    "from sklearn.metrics.pairwise import cosine_similarity\n",
    "similarity=cosine_similarity(vector)"
   ]
  },
  {
   "cell_type": "code",
   "execution_count": 47,
   "id": "490905e2",
   "metadata": {},
   "outputs": [],
   "source": [
    "import pickle"
   ]
  },
  {
   "cell_type": "code",
   "execution_count": 56,
   "id": "a3021db5",
   "metadata": {},
   "outputs": [],
   "source": [
    "pickle.dump(df, open('game_data.pkl', 'wb'))\n",
    "pickle.dump(similarity, open('similarity.pkl', 'wb'))"
   ]
  }
 ],
 "metadata": {
  "kernelspec": {
   "display_name": "Python 3 (ipykernel)",
   "language": "python",
   "name": "python3"
  },
  "language_info": {
   "codemirror_mode": {
    "name": "ipython",
    "version": 3
   },
   "file_extension": ".py",
   "mimetype": "text/x-python",
   "name": "python",
   "nbconvert_exporter": "python",
   "pygments_lexer": "ipython3",
   "version": "3.11.2"
  }
 },
 "nbformat": 4,
 "nbformat_minor": 5
}
